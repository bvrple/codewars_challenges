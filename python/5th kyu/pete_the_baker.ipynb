{
 "cells": [
  {
   "cell_type": "code",
   "execution_count": null,
   "metadata": {},
   "outputs": [],
   "source": [
    "# https://www.codewars.com/kata/525c65e51bf619685c000059\n",
    "\n",
    "def cakes(recipe, available):\n",
    "    \n",
    "    res = []\n",
    "    temp = []\n",
    "    \n",
    "    # grabs the keys from both dictionaries\n",
    "    rk = list(recipe.keys())\n",
    "    ak = list(available.keys())\n",
    "    \n",
    "    # checks that all required ingredients are available else return 0\n",
    "    for word in rk:\n",
    "        if word not in ak:\n",
    "            return 0\n",
    "    else:\n",
    "        #  ing takes the key from recipe and compares to keys in available, once matched appends temp array with tuple (recipe_key, available['recipe_key'])\n",
    "        for ing in rk:\n",
    "            if ing in ak:\n",
    "                temp.append((ing, available[ing]))\n",
    "\n",
    "        # rv == list of recipe values, av == list of values from tuples in temp; this process ensures both original dict values are in the same order\n",
    "        rv = list(recipe.values())\n",
    "        av = [x[1] for x in temp]\n",
    "\n",
    "        # zip values together for easy division\n",
    "        zipped = list(zip(av, rv))\n",
    "\n",
    "        # divide available ingredients by necessary ingredients and append results to list\n",
    "        for tup in zipped:\n",
    "            res.append(int(tup[0]/tup[1]))\n",
    "\n",
    "    return min(res) # returns minimum result (minimum result == the most cakes possible)"
   ]
  }
 ],
 "metadata": {
  "language_info": {
   "name": "python"
  },
  "orig_nbformat": 4
 },
 "nbformat": 4,
 "nbformat_minor": 2
}
