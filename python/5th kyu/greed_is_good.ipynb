{
 "cells": [
  {
   "cell_type": "code",
   "execution_count": null,
   "metadata": {},
   "outputs": [],
   "source": [
    "# https://www.codewars.com/kata/5270d0d18625160ada0000e4\n",
    "\n",
    "def score(dice):\n",
    "    dice_scores = {\n",
    "        \"111\": 1000, \n",
    "        \"666\": 600, \n",
    "        \"555\": 500,\n",
    "        \"444\": 400, \n",
    "        \"333\": 300, \n",
    "        \"222\": 200,\n",
    "        \"1\": 100, \n",
    "        \"5\": 50\n",
    "        }\n",
    "    \n",
    "    score = 0\n",
    "    dice_string = \"\".join(sorted(list(str(num) for num in dice)))\n",
    "    \n",
    "    i = 0\n",
    "    while i < 5:\n",
    "        for key in list(dice_scores.keys()):\n",
    "            if key in dice_string:\n",
    "                score += dice_scores[key]\n",
    "                dice_string = dice_string.replace(key, \"\", 1)\n",
    "            \n",
    "        if len(dice_string) < 1: break\n",
    "        i+=1\n",
    "\n",
    "    return score"
   ]
  }
 ],
 "metadata": {
  "language_info": {
   "name": "python"
  },
  "orig_nbformat": 4
 },
 "nbformat": 4,
 "nbformat_minor": 2
}
