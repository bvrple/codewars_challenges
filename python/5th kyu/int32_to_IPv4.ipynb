{
 "cells": [
  {
   "cell_type": "code",
   "execution_count": null,
   "metadata": {},
   "outputs": [],
   "source": [
    "# https://www.codewars.com/kata/52e88b39ffb6ac53a400022e\n",
    "\n",
    "def int32_to_ip(int32):\n",
    "    length = 32\n",
    "    binary = bin(int32)[2:]\n",
    "    \n",
    "    if len(binary) < length:\n",
    "        \n",
    "        while len(binary) < length:\n",
    "            binary = \"0\" + binary\n",
    "\n",
    "    binary = [x for x in binary]\n",
    "    for char in range(len(binary)):\n",
    "        if 0 < char < 32 and char % 8 == 0:     \n",
    "            binary[char] = f\".{binary[char]}\"\n",
    "    \n",
    "    binary = \".\".join([str(int(x, 2)) for x in \"\".join(binary).split(\".\")])\n",
    "    \n",
    "    return binary"
   ]
  }
 ],
 "metadata": {
  "language_info": {
   "name": "python"
  },
  "orig_nbformat": 4
 },
 "nbformat": 4,
 "nbformat_minor": 2
}
