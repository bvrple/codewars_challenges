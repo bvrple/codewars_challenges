{
 "cells": [
  {
   "cell_type": "code",
   "execution_count": 6,
   "metadata": {},
   "outputs": [
    {
     "data": {
      "text/plain": [
       "6"
      ]
     },
     "execution_count": 6,
     "metadata": {},
     "output_type": "execute_result"
    }
   ],
   "source": [
    "# https://www.codewars.com/kata/54521e9ec8e60bc4de000d6c\n",
    "\n",
    "def max_sequence(arr):\n",
    "    \n",
    "    if arr == []: # failsafe for empty array\n",
    "        return 0\n",
    "    else: \n",
    "        check = 0\n",
    "        key = 0\n",
    "        subs = {}\n",
    "        for i in range(len(arr)): # loop through indices\n",
    "            for item in arr: # loop through all items once per indice\n",
    "\n",
    "                if len(arr[i:check+1]) > 0 and arr[i:check+1] not in subs.values(): # adds unique non-empty subarrays to dict\n",
    "                    subs[key] = arr[i:check+1]\n",
    "                    \n",
    "                check+=1 # increase length of subarray\n",
    "                key+=1 # unique key for dict\n",
    "            check = i # reset check to index\n",
    "\n",
    "        # creates a list of tuples containing (sum of subarray, subarray), then stores 0 index of max i.e (6, [4, -1, 2, 1])[0]\n",
    "        result = max([(sum(x), x) for x in subs.values()])[0]\n",
    "    \n",
    "    return result if result > 0 else 0 # ensures failsafe for negative result"
   ]
  },
  {
   "cell_type": "code",
   "execution_count": null,
   "metadata": {},
   "outputs": [],
   "source": []
  }
 ],
 "metadata": {
  "interpreter": {
   "hash": "b89b5cfaba6639976dc87ff2fec6d58faec662063367e2c229c520fe71072417"
  },
  "kernelspec": {
   "display_name": "Python 3.10.0 64-bit",
   "language": "python",
   "name": "python3"
  },
  "language_info": {
   "codemirror_mode": {
    "name": "ipython",
    "version": 3
   },
   "file_extension": ".py",
   "mimetype": "text/x-python",
   "name": "python",
   "nbconvert_exporter": "python",
   "pygments_lexer": "ipython3",
   "version": "3.10.0"
  },
  "orig_nbformat": 4
 },
 "nbformat": 4,
 "nbformat_minor": 2
}
