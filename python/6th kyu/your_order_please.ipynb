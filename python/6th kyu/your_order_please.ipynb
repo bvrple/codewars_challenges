{
 "cells": [
  {
   "cell_type": "code",
   "execution_count": null,
   "metadata": {},
   "outputs": [],
   "source": [
    "# https://www.codewars.com/kata/55c45be3b2079eccff00010f\n",
    "\n",
    "def order(sentence):\n",
    "    words = sentence.split(' ')\n",
    "    word_dict = {}\n",
    "    for word in words:\n",
    "        for char in word:\n",
    "            if char in '0123456789':\n",
    "                word_dict.update({word: char})\n",
    "                break\n",
    "    \n",
    "    sorted_words = {k: v for k, v in sorted(word_dict.items(), key=lambda item: item[1])}\n",
    "    result = ' '.join([x for x in sorted_words])\n",
    "\n",
    "    return '' if sentence == '' else result"
   ]
  }
 ],
 "metadata": {
  "language_info": {
   "name": "python"
  },
  "orig_nbformat": 4
 },
 "nbformat": 4,
 "nbformat_minor": 2
}
