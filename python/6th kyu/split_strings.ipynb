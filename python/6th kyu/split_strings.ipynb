{
 "cells": [
  {
   "cell_type": "code",
   "execution_count": null,
   "metadata": {},
   "outputs": [],
   "source": [
    "# https://www.codewars.com/kata/515de9ae9dcfc28eb6000001\n",
    "\n",
    "def solution(s):\n",
    "    splits = []\n",
    "    n = 2\n",
    "    if len(s)%2!=0:\n",
    "            s = s + '_'\n",
    "    for index in range(0, len(s), n):\n",
    "        splits.append(s[index : index + n])\n",
    "    return(splits)\n",
    "\n",
    "\n",
    "# REFACTORED\n",
    "def solution(s):\n",
    "    if s:\n",
    "        chunks = [s[i:i+2] for i in range(0, len(s), 2)]\n",
    "        if len(chunks[-1]) == 1:\n",
    "            chunks[-1]+='_'   \n",
    "        return chunks\n",
    "    return list(s)"
   ]
  }
 ],
 "metadata": {
  "language_info": {
   "name": "python"
  },
  "orig_nbformat": 4
 },
 "nbformat": 4,
 "nbformat_minor": 2
}
