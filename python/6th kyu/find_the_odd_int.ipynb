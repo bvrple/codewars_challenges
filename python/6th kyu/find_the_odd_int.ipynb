{
 "cells": [
  {
   "cell_type": "code",
   "execution_count": null,
   "metadata": {},
   "outputs": [],
   "source": [
    "# https://www.codewars.com/kata/54da5a58ea159efa38000836\n",
    "\n",
    "def find_it(seq):\n",
    "    for x in seq:\n",
    "        if seq.count(x)%2 != 0:\n",
    "            return x"
   ]
  }
 ],
 "metadata": {
  "language_info": {
   "name": "python"
  },
  "orig_nbformat": 4
 },
 "nbformat": 4,
 "nbformat_minor": 2
}
