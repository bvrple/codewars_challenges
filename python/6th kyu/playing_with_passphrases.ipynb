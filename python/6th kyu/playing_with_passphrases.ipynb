{
 "cells": [
  {
   "cell_type": "code",
   "execution_count": null,
   "metadata": {},
   "outputs": [],
   "source": [
    "# https://www.codewars.com/kata/559536379512a64472000053\n",
    "\n",
    "import string\n",
    "\n",
    "alpha = string.ascii_letters\n",
    "def play_pass(s, n):\n",
    "    str_lst = [letter for letter in s]\n",
    "    comps = {x: y for x, y in enumerate(range(9, -1, -1))}\n",
    "    \n",
    "    for i in range(len(str_lst)):\n",
    "        if str_lst[i].isalpha():\n",
    "            if (alpha.index(str_lst[i]) + n) >= len(alpha):\n",
    "                str_lst[i] = alpha[alpha.index(str_lst[i])-(26)+n]\n",
    "            else:\n",
    "                str_lst[i] = alpha[alpha.index(str_lst[i])+n]\n",
    "        elif str_lst[i].isdigit():\n",
    "            str_lst[i] = str(comps[int(str_lst[i])])\n",
    "    \n",
    "    i = 0\n",
    "    while i < len(str_lst):\n",
    "        if i % 2 == 0:\n",
    "            str_lst[i] = str_lst[i].upper()\n",
    "        else:\n",
    "            str_lst[i] = str_lst[i].lower()\n",
    "        i+=1\n",
    "    return ''.join(str_lst)[::-1]"
   ]
  }
 ],
 "metadata": {
  "language_info": {
   "name": "python"
  },
  "orig_nbformat": 4
 },
 "nbformat": 4,
 "nbformat_minor": 2
}
