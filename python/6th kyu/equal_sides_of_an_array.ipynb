{
 "cells": [
  {
   "cell_type": "code",
   "execution_count": null,
   "metadata": {},
   "outputs": [],
   "source": [
    "# https://www.codewars.com/kata/5679aa472b8f57fb8c000047\n",
    "\n",
    "def find_even_index(arr):\n",
    "    for i in range(0, len(arr)):\n",
    "        L = arr[0 : i]\n",
    "        R = arr[i+1:]\n",
    "        if sum(L) == sum(R):\n",
    "            return i\n",
    "    return -1"
   ]
  }
 ],
 "metadata": {
  "language_info": {
   "name": "python"
  },
  "orig_nbformat": 4
 },
 "nbformat": 4,
 "nbformat_minor": 2
}
