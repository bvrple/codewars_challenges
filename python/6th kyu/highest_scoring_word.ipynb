{
 "cells": [
  {
   "cell_type": "code",
   "execution_count": null,
   "metadata": {},
   "outputs": [],
   "source": [
    "# https://www.codewars.com/kata/57eb8fcdf670e99d9b000272\n",
    "\n",
    "import string\n",
    "\n",
    "def high(x):\n",
    "    letters = string.ascii_lowercase\n",
    "    letter_dict = {}\n",
    "  \n",
    "    for i, v in enumerate(letters, start=1):\n",
    "        letter_dict[v] = i\n",
    "\n",
    "    \n",
    "    score_check = {}\n",
    "    words = x.split(\" \")\n",
    "    \n",
    "    score = 0\n",
    "    for word in words:\n",
    "        for letter in word:\n",
    "            score += letter_dict.get(letter)\n",
    "            \n",
    "        score_check[word] = score\n",
    "        score = 0\n",
    "        \n",
    "    result = max(score_check.values())\n",
    "    \n",
    "    for word in score_check.keys():\n",
    "        if score_check.get(word) == result:\n",
    "            return word"
   ]
  }
 ],
 "metadata": {
  "language_info": {
   "name": "python"
  },
  "orig_nbformat": 4
 },
 "nbformat": 4,
 "nbformat_minor": 2
}
