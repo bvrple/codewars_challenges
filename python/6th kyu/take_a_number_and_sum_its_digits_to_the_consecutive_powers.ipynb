{
 "cells": [
  {
   "cell_type": "code",
   "execution_count": null,
   "metadata": {},
   "outputs": [],
   "source": [
    "# https://www.codewars.com/kata/5626b561280a42ecc50000d1\n",
    "\n",
    "def sum_dig_pow(a, b): # range(a, b + 1) will be studied by the function\n",
    "    range_list = []\n",
    "    res_list = []\n",
    "    \n",
    "    #increment power by 1 and sum all parts\n",
    "    power = 1\n",
    "    \n",
    "    \n",
    "    for num in range(a,b+1):\n",
    "        range_list.append(str(num))\n",
    "        \n",
    "        \n",
    "        string = str(num)\n",
    "        power = 1\n",
    "        \n",
    "        dig_sum = 0\n",
    "        \n",
    "        for i in string:\n",
    "            digit = int(i)\n",
    "            result = digit**power\n",
    "            power+=1\n",
    "            \n",
    "            \n",
    "            dig_sum += result\n",
    "        \n",
    "        \n",
    "        if dig_sum == num:\n",
    "            res_list.append(dig_sum)\n",
    "    return res_list"
   ]
  }
 ],
 "metadata": {
  "language_info": {
   "name": "python"
  },
  "orig_nbformat": 4
 },
 "nbformat": 4,
 "nbformat_minor": 2
}
