{
 "cells": [
  {
   "cell_type": "code",
   "execution_count": null,
   "metadata": {},
   "outputs": [],
   "source": [
    "# https://www.codewars.com/kata/556deca17c58da83c00002db\n",
    "\n",
    "def tribonacci(sig, n):\n",
    "    if n < 4:\n",
    "        sig = sig[:n]\n",
    "        return sig\n",
    "    else:\n",
    "        if n != 0:\n",
    "            for i in range(0, n-3):\n",
    "                sig.append(sum(sig[i:]))\n",
    "        return sig"
   ]
  }
 ],
 "metadata": {
  "language_info": {
   "name": "python"
  },
  "orig_nbformat": 4
 },
 "nbformat": 4,
 "nbformat_minor": 2
}
