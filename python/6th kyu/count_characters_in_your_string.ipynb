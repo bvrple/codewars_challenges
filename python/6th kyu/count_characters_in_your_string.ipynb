{
 "cells": [
  {
   "cell_type": "code",
   "execution_count": null,
   "metadata": {},
   "outputs": [],
   "source": [
    "# https://www.codewars.com/kata/52efefcbcdf57161d4000091\n",
    "\n",
    "from collections import Counter\n",
    "\n",
    "def count(string):\n",
    "    if string != '':\n",
    "        values = dict(Counter(string))\n",
    "        return values    \n",
    "    \n",
    "    return {}"
   ]
  }
 ],
 "metadata": {
  "language_info": {
   "name": "python"
  },
  "orig_nbformat": 4
 },
 "nbformat": 4,
 "nbformat_minor": 2
}
