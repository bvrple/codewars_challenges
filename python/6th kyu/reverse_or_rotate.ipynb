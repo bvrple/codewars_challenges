{
 "cells": [
  {
   "cell_type": "code",
   "execution_count": null,
   "metadata": {},
   "outputs": [],
   "source": [
    "# https://www.codewars.com/kata/56b5afb4ed1f6d5fb0000991\n",
    "\n",
    "def revrot(string, size):\n",
    "    #checks length of string is greater than 0 or size\n",
    "    if size <= 0 or len(string) <=0 or  size > len(string):\n",
    "        return \"\"\n",
    "    else:\n",
    "        #checks for remainder\n",
    "        remainder = len(string) % size\n",
    "        if len(string) % size != 0:\n",
    "            string = string[:-remainder]\n",
    "            \n",
    "        #creates substrings of the size passed through function\n",
    "        chunks1 = [string[i:i+size] for i in range(0, len(string), size)]\n",
    "        chunks2 = [string[i:i+size] for i in range(0, len(string), size)]\n",
    "\n",
    "        #cubes each digit of a chunk then returns the sum\n",
    "        cubes = []\n",
    "        sums = []\n",
    "        while len(chunks1) > 0:\n",
    "            for char in chunks1[0]:\n",
    "                cubes.append(int(char)**3)\n",
    "            chunks1.pop(0)\n",
    "        \n",
    "        while len(sums) != len(chunks2):\n",
    "            sums.append(sum(cubes[:size]))\n",
    "            cubes = cubes[size:]\n",
    "\n",
    "        #reverses or rotates the substring dependant on whethere its divisble by 2, rejoins the string\n",
    "        res = []\n",
    "        i = 0\n",
    "        \n",
    "        while i < len(chunks2):\n",
    "            index = chunks2[i]\n",
    "            if sums[i] % 2 == 0:\n",
    "                res.append(index[::-1])\n",
    "                i+=1\n",
    "            else:\n",
    "                res.append(index[1:] + index[0])\n",
    "                i+=1\n",
    "        return ''.join(res)"
   ]
  }
 ],
 "metadata": {
  "language_info": {
   "name": "python"
  },
  "orig_nbformat": 4
 },
 "nbformat": 4,
 "nbformat_minor": 2
}
