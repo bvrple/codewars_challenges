{
 "cells": [
  {
   "cell_type": "code",
   "execution_count": null,
   "metadata": {},
   "outputs": [],
   "source": [
    "# https://www.codewars.com/kata/5262119038c0985a5b00029f\n",
    "\n",
    "def is_prime(num):\n",
    "\n",
    "    if num < 2:\n",
    "        return False\n",
    "    elif num == 2:\n",
    "        return True\n",
    "    elif num % 2 == 0:\n",
    "        return False\n",
    "    elif num == 3:\n",
    "        return True\n",
    "    elif num % 3 == 0:\n",
    "        return False\n",
    "\n",
    "    i = 2\n",
    "    num2 = num ** 0.5\n",
    "\n",
    "    while i <= num2:\n",
    "        if num % i == 0:\n",
    "            return False\n",
    "        i += 1\n",
    "\n",
    "    else:\n",
    "        return True"
   ]
  }
 ],
 "metadata": {
  "language_info": {
   "name": "python"
  },
  "orig_nbformat": 4
 },
 "nbformat": 4,
 "nbformat_minor": 2
}
