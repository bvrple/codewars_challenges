{
 "cells": [
  {
   "cell_type": "code",
   "execution_count": null,
   "metadata": {},
   "outputs": [],
   "source": [
    "# https://www.codewars.com/kata/541c8630095125aba6000c00\n",
    "\n",
    "def digital_root(n):\n",
    "    i = 1\n",
    "    result = 0\n",
    "    nums = list(map(int, str(n)))\n",
    "    while len(nums) != i:\n",
    "        result = sum(nums)\n",
    "        nums = list(map(int, str(result)))\n",
    "    return result or n"
   ]
  }
 ],
 "metadata": {
  "language_info": {
   "name": "python"
  },
  "orig_nbformat": 4
 },
 "nbformat": 4,
 "nbformat_minor": 2
}
