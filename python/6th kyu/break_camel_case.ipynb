{
 "cells": [
  {
   "cell_type": "code",
   "execution_count": null,
   "metadata": {},
   "outputs": [],
   "source": [
    "# https://www.codewars.com/kata/5208f99aee097e6552000148\n",
    "\n",
    "def solution(s):\n",
    "    return ''.join([letter if letter.islower() else f' {letter}' for letter in s])"
   ]
  }
 ],
 "metadata": {
  "language_info": {
   "name": "python"
  },
  "orig_nbformat": 4
 },
 "nbformat": 4,
 "nbformat_minor": 2
}
