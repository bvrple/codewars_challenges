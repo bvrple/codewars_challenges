{
 "cells": [
  {
   "cell_type": "code",
   "execution_count": null,
   "metadata": {},
   "outputs": [],
   "source": [
    "# https://www.codewars.com/kata/5420fc9bb5b2c7fd57000004\n",
    "\n",
    "from collections import Counter\n",
    "\n",
    "def highest_rank(arr):\n",
    "    result_list = []\n",
    "    \n",
    "    #created dictionary of counted list items, ordered by most common items\n",
    "    count = Counter(arr)\n",
    "    count = count.most_common()\n",
    "    \n",
    "    #use value from most common to set a baseline\n",
    "    x = count[0]\n",
    "    x = x[1]\n",
    "    \n",
    "    #check for other items with the same number of appearances as baseline value\n",
    "    for i in count:\n",
    "        if i[1] == x:\n",
    "            result_list.append(i)\n",
    "            \n",
    "    #sort the results and return the largest number\n",
    "    result = sorted(result_list)\n",
    "    result = result[-1]\n",
    "    return result[0]"
   ]
  }
 ],
 "metadata": {
  "language_info": {
   "name": "python"
  },
  "orig_nbformat": 4
 },
 "nbformat": 4,
 "nbformat_minor": 2
}
