{
 "cells": [
  {
   "cell_type": "code",
   "execution_count": null,
   "metadata": {},
   "outputs": [],
   "source": [
    "# https://www.codewars.com/kata/54bf1c2cd5b56cc47f0007a1\n",
    "\n",
    "from collections import Counter\n",
    "\n",
    "def duplicate_count(text):\n",
    "    lst = [x for x in text.lower()]\n",
    "    c = dict(Counter(lst))\n",
    "    x = 0\n",
    "    for i in c.values():\n",
    "        if i > 1:\n",
    "            x+=1\n",
    "    return x"
   ]
  }
 ],
 "metadata": {
  "language_info": {
   "name": "python"
  },
  "orig_nbformat": 4
 },
 "nbformat": 4,
 "nbformat_minor": 2
}
