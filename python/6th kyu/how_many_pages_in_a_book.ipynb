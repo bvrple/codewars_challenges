{
 "cells": [
  {
   "cell_type": "code",
   "execution_count": null,
   "metadata": {},
   "outputs": [],
   "source": [
    "# https://www.codewars.com/kata/622de76d28bf330057cd6af8\n",
    "\n",
    "def amount_of_pages(summary):\n",
    "    pages = 0\n",
    "    count = 0\n",
    "    while count < summary: pages += 1; count += len(str(pages))\n",
    "    return pages"
   ]
  }
 ],
 "metadata": {
  "language_info": {
   "name": "python"
  },
  "orig_nbformat": 4
 },
 "nbformat": 4,
 "nbformat_minor": 2
}
