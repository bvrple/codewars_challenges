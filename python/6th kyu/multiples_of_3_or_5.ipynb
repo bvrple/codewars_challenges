{
 "cells": [
  {
   "cell_type": "code",
   "execution_count": null,
   "metadata": {},
   "outputs": [],
   "source": [
    " # https://www.codewars.com/kata/514b92a657cdc65150000006\n",
    " \n",
    "def solution(n):\n",
    "    nums = []\n",
    "    x = range(0,n)\n",
    "    for i in x:\n",
    "        if i %3 == 0 or i %5 == 0:\n",
    "            nums.append(i)\n",
    "    return sum(nums)"
   ]
  }
 ],
 "metadata": {
  "language_info": {
   "name": "python"
  },
  "orig_nbformat": 4
 },
 "nbformat": 4,
 "nbformat_minor": 2
}
