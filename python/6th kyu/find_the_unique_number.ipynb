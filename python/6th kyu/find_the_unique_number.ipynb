{
 "cells": [
  {
   "cell_type": "code",
   "execution_count": null,
   "metadata": {},
   "outputs": [],
   "source": [
    "# https://www.codewars.com/kata/585d7d5adb20cf33cb000235\n",
    "\n",
    "from collections import Counter\n",
    "\n",
    "def find_uniq(arr):\n",
    "    x = dict(Counter(arr))\n",
    "    i = list(x.values()).index(1)\n",
    "    return list(x.keys())[i]"
   ]
  }
 ],
 "metadata": {
  "language_info": {
   "name": "python"
  },
  "orig_nbformat": 4
 },
 "nbformat": 4,
 "nbformat_minor": 2
}
