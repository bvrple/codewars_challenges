{
 "cells": [
  {
   "cell_type": "code",
   "execution_count": null,
   "metadata": {},
   "outputs": [],
   "source": [
    "# https://www.codewars.com/kata/517abf86da9663f1d2000003\n",
    "\n",
    "def to_camel_case(text):\n",
    "    if text == '':\n",
    "        return ''\n",
    "    else:\n",
    "        if '-' in text:\n",
    "            t = text.replace('-', '_')\n",
    "            t = t.split('_')\n",
    "        elif '_' in text:\n",
    "             t = text.split('_')\n",
    "        else:\n",
    "            pass\n",
    "        p1 = t[0]\n",
    "        p2 = t[1:]\n",
    "        join = ' '.join(p2).title() \n",
    "        return p1 + join.replace(' ','')"
   ]
  }
 ],
 "metadata": {
  "language_info": {
   "name": "python"
  },
  "orig_nbformat": 4
 },
 "nbformat": 4,
 "nbformat_minor": 2
}
