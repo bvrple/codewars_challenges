{
 "cells": [
  {
   "cell_type": "code",
   "execution_count": null,
   "metadata": {},
   "outputs": [],
   "source": [
    "# https://www.codewars.com/kata/583a8bde28019d615a000035/\n",
    "\n",
    "def find_odd_names(lst): \n",
    "    res = []\n",
    "    # loop through list and find the unicode values for each character of first name then sum the values\n",
    "    for obj in lst: \n",
    "        name = sum([ord(x) for x in obj.get(\"firstName\")])            \n",
    "        if name % 2 != 0:    # append dictionary to res if unicode sum is odd\n",
    "            res.append(obj)\n",
    "    if len(res) < 1:    # if length of result less that 1 return empty list, otherwise return result\n",
    "        return []\n",
    "    return res"
   ]
  }
 ],
 "metadata": {
  "language_info": {
   "name": "python"
  },
  "orig_nbformat": 4
 },
 "nbformat": 4,
 "nbformat_minor": 2
}
