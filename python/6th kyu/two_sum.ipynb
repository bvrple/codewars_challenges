{
 "cells": [
  {
   "cell_type": "code",
   "execution_count": null,
   "metadata": {},
   "outputs": [],
   "source": [
    "# https://www.codewars.com/kata/52c31f8e6605bcc646000082\n",
    "\n",
    "def two_sum(numbers, target):\n",
    "    hm = {}\n",
    "    \n",
    "    for num in range(len(numbers)):\n",
    "        if target - numbers[num]not in hm.values():\n",
    "            hm[num] = numbers[num]\n",
    "        else:\n",
    "            return (numbers.index(target-numbers[num]), num)"
   ]
  }
 ],
 "metadata": {
  "language_info": {
   "name": "python"
  },
  "orig_nbformat": 4
 },
 "nbformat": 4,
 "nbformat_minor": 2
}
