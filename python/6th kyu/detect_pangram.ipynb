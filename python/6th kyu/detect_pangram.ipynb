{
 "cells": [
  {
   "cell_type": "code",
   "execution_count": null,
   "metadata": {},
   "outputs": [],
   "source": [
    "# https://www.codewars.com/kata/545cedaa9943f7fe7b000048\n",
    "\n",
    "import string\n",
    "\n",
    "def is_pangram(s):\n",
    "    #create reference alphabet list\n",
    "    alphabet = string.ascii_lowercase\n",
    "    alphabet = list(alphabet)\n",
    "\n",
    "    #ensure cases match and create ordered set from input 's'\n",
    "    pan_string = s.lower()\n",
    "    pan_list = sorted({i for i in pan_string if i in alphabet})\n",
    "\n",
    "    #check equivalency\n",
    "    return pan_list == alphabet"
   ]
  }
 ],
 "metadata": {
  "language_info": {
   "name": "python"
  },
  "orig_nbformat": 4
 },
 "nbformat": 4,
 "nbformat_minor": 2
}
