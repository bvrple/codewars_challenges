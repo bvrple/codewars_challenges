{
 "cells": [
  {
   "cell_type": "code",
   "execution_count": 5,
   "metadata": {},
   "outputs": [
    {
     "data": {
      "text/plain": [
       "2"
      ]
     },
     "execution_count": 5,
     "metadata": {},
     "output_type": "execute_result"
    }
   ],
   "source": [
    "# https://www.codewars.com/kata/5596f6e9529e9ab6fb000014\n",
    "\n",
    "def shifted_diff(first, second):\n",
    "    \n",
    "    slices = []\n",
    "    for i in range(len(first)):\n",
    "        for j in range(len(first)):\n",
    "            sliced_string = first[j+1:] + first[i:j+1]\n",
    "            if len(sliced_string) == len(first):\n",
    "                slices.append(sliced_string)\n",
    "                \n",
    "    slices = slices[::-1]\n",
    "    \n",
    "    if second in slices:      \n",
    "        return slices.index(second)\n",
    "    else:\n",
    "        return -1\n",
    "    \n",
    "shifted_diff(\"coffee\", \"eecoff\")"
   ]
  }
 ],
 "metadata": {
  "interpreter": {
   "hash": "b89b5cfaba6639976dc87ff2fec6d58faec662063367e2c229c520fe71072417"
  },
  "kernelspec": {
   "display_name": "Python 3.10.0 64-bit",
   "language": "python",
   "name": "python3"
  },
  "language_info": {
   "codemirror_mode": {
    "name": "ipython",
    "version": 3
   },
   "file_extension": ".py",
   "mimetype": "text/x-python",
   "name": "python",
   "nbconvert_exporter": "python",
   "pygments_lexer": "ipython3",
   "version": "3.10.0"
  },
  "orig_nbformat": 4
 },
 "nbformat": 4,
 "nbformat_minor": 2
}
