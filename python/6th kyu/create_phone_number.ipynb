{
 "cells": [
  {
   "cell_type": "code",
   "execution_count": null,
   "metadata": {},
   "outputs": [],
   "source": [
    "# https://www.codewars.com/kata/525f50e3b73515a6db000b83\n",
    "\n",
    "def create_phone_number(n):\n",
    "    phone = ''.join([str(x) for x in n])\n",
    "    return '('+ phone[:3] +') ' + phone[3:6] +'-'+ phone[6:]"
   ]
  }
 ],
 "metadata": {
  "language_info": {
   "name": "python"
  },
  "orig_nbformat": 4
 },
 "nbformat": 4,
 "nbformat_minor": 2
}
