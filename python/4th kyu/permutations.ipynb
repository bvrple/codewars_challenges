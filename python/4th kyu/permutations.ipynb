{
 "cells": [
  {
   "cell_type": "code",
   "execution_count": null,
   "metadata": {},
   "outputs": [],
   "source": [
    "# https://www.codewars.com/kata/5254ca2719453dcc0b00027d\n",
    "\n",
    "from itertools import permutations as p\n",
    "\n",
    "def permutations(string):\n",
    "    return [''.join(x) for x in set(p(string))]"
   ]
  }
 ],
 "metadata": {
  "language_info": {
   "name": "python"
  },
  "orig_nbformat": 4
 },
 "nbformat": 4,
 "nbformat_minor": 2
}
