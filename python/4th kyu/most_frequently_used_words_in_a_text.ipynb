{
 "cells": [
  {
   "cell_type": "code",
   "execution_count": null,
   "metadata": {},
   "outputs": [],
   "source": [
    "# https://www.codewars.com/kata/51e056fe544cf36c410000fb\n",
    "\n",
    "from collections import Counter\n",
    "import re\n",
    "\n",
    "def top_3_words(text):\n",
    "    pattern = r\"^\\s*'+\\s*$\"\n",
    "    matches = re.findall(pattern, text)\n",
    "    if len(matches) > 0:\n",
    "        return []\n",
    "    else:\n",
    "        text = text.strip().lower()\n",
    "                \n",
    "        words = text.split(\" \")\n",
    "        cleaned = []\n",
    "        \n",
    "        for word in words:\n",
    "            new_word = \"\"\n",
    "            for letter in word:\n",
    "                if letter.isalpha() or letter == \"'\":\n",
    "                    new_word += letter\n",
    "                else:\n",
    "                    new_word += \" \"\n",
    "                    \n",
    "            new_word = new_word.strip()\n",
    "            if len(new_word) > 0 and \" \" not in new_word:\n",
    "                cleaned.append(new_word)\n",
    "            else:\n",
    "                for word in new_word.split(\" \"):\n",
    "                    if len(word) > 0:\n",
    "                        cleaned.append(word)\n",
    "            \n",
    "        top = [word[0] for word in Counter(cleaned).most_common(3)]\n",
    "        \n",
    "        return top"
   ]
  }
 ],
 "metadata": {
  "language_info": {
   "name": "python"
  },
  "orig_nbformat": 4
 },
 "nbformat": 4,
 "nbformat_minor": 2
}
