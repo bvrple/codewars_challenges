{
 "cells": [
  {
   "cell_type": "code",
   "execution_count": null,
   "metadata": {},
   "outputs": [],
   "source": [
    "# https://www.codewars.com/kata/5601409514fc93442500010b\n",
    "\n",
    "def better_than_average(class_points, your_points):\n",
    "    average = sum(class_points)/ len(class_points)\n",
    "    return True if your_points > average else False"
   ]
  }
 ],
 "metadata": {
  "language_info": {
   "name": "python"
  },
  "orig_nbformat": 4
 },
 "nbformat": 4,
 "nbformat_minor": 2
}
