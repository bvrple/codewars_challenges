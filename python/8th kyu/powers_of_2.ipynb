{
 "cells": [
  {
   "cell_type": "code",
   "execution_count": null,
   "metadata": {},
   "outputs": [],
   "source": [
    "# https://www.codewars.com/kata/57a083a57cb1f31db7000028\n",
    "\n",
    "def powers_of_two(n):\n",
    "    return [2**i for i in range(0, n+1)]"
   ]
  }
 ],
 "metadata": {
  "language_info": {
   "name": "python"
  },
  "orig_nbformat": 4
 },
 "nbformat": 4,
 "nbformat_minor": 2
}
