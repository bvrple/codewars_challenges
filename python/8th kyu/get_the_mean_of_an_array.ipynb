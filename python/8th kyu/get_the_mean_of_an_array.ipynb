{
 "cells": [
  {
   "cell_type": "code",
   "execution_count": null,
   "metadata": {},
   "outputs": [],
   "source": [
    "# https://www.codewars.com/kata/563e320cee5dddcf77000158\n",
    "\n",
    "def get_average(marks):\n",
    "    \n",
    "    total = sum(marks)\n",
    "    \n",
    "    final = total // len(marks)\n",
    "    \n",
    "    return final"
   ]
  }
 ],
 "metadata": {
  "language_info": {
   "name": "python"
  },
  "orig_nbformat": 4
 },
 "nbformat": 4,
 "nbformat_minor": 2
}
