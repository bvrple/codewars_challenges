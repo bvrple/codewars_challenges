{
 "cells": [
  {
   "cell_type": "code",
   "execution_count": null,
   "metadata": {},
   "outputs": [],
   "source": [
    "# https://www.codewars.com/kata/5513795bd3fafb56c200049e\n",
    "\n",
    "def count_by(x, n):\n",
    "    array = []\n",
    "    \n",
    "    i = x\n",
    "    while len(array) != n:\n",
    "        array.append(x)\n",
    "        x+=i \n",
    "    \n",
    "    return array"
   ]
  }
 ],
 "metadata": {
  "language_info": {
   "name": "python"
  },
  "orig_nbformat": 4
 },
 "nbformat": 4,
 "nbformat_minor": 2
}
