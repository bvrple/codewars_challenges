{
 "cells": [
  {
   "cell_type": "code",
   "execution_count": null,
   "metadata": {},
   "outputs": [],
   "source": [
    "# https://www.codewars.com/kata/5a2fd38b55519ed98f0000ce\n",
    "\n",
    "def multi_table(number):\n",
    "    n = 1\n",
    "    result = ''\n",
    "    while n < 11:\n",
    "        string = f'{n} * {number} = {n*number}'\n",
    "        result += string + \"\\n\"\n",
    "        n+=1\n",
    "    return result[:-1]"
   ]
  }
 ],
 "metadata": {
  "language_info": {
   "name": "python"
  },
  "orig_nbformat": 4
 },
 "nbformat": 4,
 "nbformat_minor": 2
}
