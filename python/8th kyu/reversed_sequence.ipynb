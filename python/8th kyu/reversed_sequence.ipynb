{
 "cells": [
  {
   "cell_type": "code",
   "execution_count": null,
   "metadata": {},
   "outputs": [],
   "source": [
    "# https://www.codewars.com/kata/5a00e05cc374cb34d100000d\n",
    "\n",
    "def reverse_seq(n):\n",
    "    return [x for x in range((n-n)+1, n+1)][::-1]"
   ]
  }
 ],
 "metadata": {
  "language_info": {
   "name": "python"
  },
  "orig_nbformat": 4
 },
 "nbformat": 4,
 "nbformat_minor": 2
}
