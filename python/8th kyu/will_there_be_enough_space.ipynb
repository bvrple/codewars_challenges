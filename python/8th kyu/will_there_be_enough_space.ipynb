{
 "cells": [
  {
   "cell_type": "code",
   "execution_count": null,
   "metadata": {},
   "outputs": [],
   "source": [
    "# https://www.codewars.com/kata/5875b200d520904a04000003\n",
    "\n",
    "def enough(cap, on, wait):\n",
    "    return (on + wait) - cap if (on + wait) > cap else 0"
   ]
  }
 ],
 "metadata": {
  "language_info": {
   "name": "python"
  },
  "orig_nbformat": 4
 },
 "nbformat": 4,
 "nbformat_minor": 2
}
