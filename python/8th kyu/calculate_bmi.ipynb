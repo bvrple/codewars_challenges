{
 "cells": [
  {
   "cell_type": "code",
   "execution_count": null,
   "metadata": {},
   "outputs": [],
   "source": [
    "# https://www.codewars.com/kata/57a429e253ba3381850000fb\n",
    "\n",
    "def bmi(weight, height):\n",
    "    result = weight / (height**2)\n",
    "    \n",
    "    if result <= 18.5:\n",
    "        return \"Underweight\"\n",
    "    elif result <= 25:\n",
    "        return \"Normal\"\n",
    "    elif result <= 30:\n",
    "        return \"Overweight\"\n",
    "    else:\n",
    "        return \"Obese\""
   ]
  }
 ],
 "metadata": {
  "language_info": {
   "name": "python"
  },
  "orig_nbformat": 4
 },
 "nbformat": 4,
 "nbformat_minor": 2
}
