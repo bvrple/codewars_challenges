{
 "cells": [
  {
   "cell_type": "code",
   "execution_count": null,
   "metadata": {},
   "outputs": [],
   "source": [
    "# https://www.codewars.com/kata/555086d53eac039a2a000083\n",
    "\n",
    "def lovefunc( a, b ):\n",
    "    return (a % 2 == 0 and b % 2 != 0) or (a % 2 != 0 and b % 2 == 0)"
   ]
  }
 ],
 "metadata": {
  "language_info": {
   "name": "python"
  },
  "orig_nbformat": 4
 },
 "nbformat": 4,
 "nbformat_minor": 2
}
