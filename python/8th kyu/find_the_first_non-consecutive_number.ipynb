{
 "cells": [
  {
   "cell_type": "code",
   "execution_count": null,
   "metadata": {},
   "outputs": [],
   "source": [
    "# https://www.codewars.com/kata/58f8a3a27a5c28d92e000144\n",
    "\n",
    "def first_non_consecutive(arr):\n",
    "    step = None\n",
    "    if arr[0] < arr[1]:\n",
    "        step = 1\n",
    "    else:\n",
    "        step = -1\n",
    "    i = 0\n",
    "    while i < len(arr)-1:\n",
    "        if (arr[i] + step) != arr[i+1]:\n",
    "            return arr[i+1]\n",
    "        i+=1\n",
    "    return None"
   ]
  }
 ],
 "metadata": {
  "language_info": {
   "name": "python"
  },
  "orig_nbformat": 4
 },
 "nbformat": 4,
 "nbformat_minor": 2
}
