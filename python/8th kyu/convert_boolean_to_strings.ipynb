{
 "cells": [
  {
   "cell_type": "code",
   "execution_count": null,
   "metadata": {},
   "outputs": [],
   "source": [
    "# https://www.codewars.com/kata/53369039d7ab3ac506000467\n",
    "\n",
    "def bool_to_word(boolean):\n",
    "    if boolean == True:\n",
    "        return 'Yes'\n",
    "    return 'No'"
   ]
  }
 ],
 "metadata": {
  "language_info": {
   "name": "python"
  },
  "orig_nbformat": 4
 },
 "nbformat": 4,
 "nbformat_minor": 2
}
