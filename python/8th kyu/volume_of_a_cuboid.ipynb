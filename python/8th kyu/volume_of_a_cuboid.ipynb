{
 "cells": [
  {
   "cell_type": "code",
   "execution_count": null,
   "metadata": {},
   "outputs": [],
   "source": [
    "# https://www.codewars.com/kata/58261acb22be6e2ed800003a\n",
    "\n",
    "def getVolumeOfCubiod(l, w, h):\n",
    "    return l*w*h"
   ]
  }
 ],
 "metadata": {
  "language_info": {
   "name": "python"
  },
  "orig_nbformat": 4
 },
 "nbformat": 4,
 "nbformat_minor": 2
}
