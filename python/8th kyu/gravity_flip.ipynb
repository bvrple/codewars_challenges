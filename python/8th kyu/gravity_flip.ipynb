{
 "cells": [
  {
   "cell_type": "code",
   "execution_count": null,
   "metadata": {},
   "outputs": [],
   "source": [
    "# https://www.codewars.com/kata/5f70c883e10f9e0001c89673\n",
    "\n",
    "def flip(d, a):\n",
    "    if d == 'R':\n",
    "        a.sort()\n",
    "        return a\n",
    "    else:\n",
    "        a.sort(reverse=True)\n",
    "        return a"
   ]
  }
 ],
 "metadata": {
  "language_info": {
   "name": "python"
  },
  "orig_nbformat": 4
 },
 "nbformat": 4,
 "nbformat_minor": 2
}
