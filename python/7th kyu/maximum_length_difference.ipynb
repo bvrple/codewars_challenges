{
 "cells": [
  {
   "cell_type": "code",
   "execution_count": null,
   "metadata": {},
   "outputs": [],
   "source": [
    "# https://www.codewars.com/kata/5663f5305102699bad000056\n",
    "\n",
    "def mxdiflg(a1, a2):\n",
    "    if len(a1) == 0 or len(a2) == 0:\n",
    "        return -1\n",
    "    else:   \n",
    "        res1 = max(list(map(len, a1))) - min(list(map(len, a2)))\n",
    "        res2 = max(list(map(len, a2))) - min(list(map(len, a1)))\n",
    "        return res1 if res1 > res2 else res2"
   ]
  }
 ],
 "metadata": {
  "language_info": {
   "name": "python"
  },
  "orig_nbformat": 4
 },
 "nbformat": 4,
 "nbformat_minor": 2
}
