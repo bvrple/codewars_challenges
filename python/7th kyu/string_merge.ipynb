{
 "cells": [
  {
   "cell_type": "code",
   "execution_count": null,
   "metadata": {},
   "outputs": [],
   "source": [
    "# https://www.codewars.com/kata/597bb84522bc93b71e00007e\n",
    "\n",
    "def string_merge(string1, string2, letter):\n",
    "    s1i = string1.find(letter)\n",
    "    s2i = string2.find(letter)\n",
    "    result = string1[:s1i] + string2[s2i:]\n",
    "    return result"
   ]
  }
 ],
 "metadata": {
  "language_info": {
   "name": "python"
  },
  "orig_nbformat": 4
 },
 "nbformat": 4,
 "nbformat_minor": 2
}
