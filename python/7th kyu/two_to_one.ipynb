{
 "cells": [
  {
   "cell_type": "code",
   "execution_count": null,
   "metadata": {},
   "outputs": [],
   "source": [
    "# https://www.codewars.com/kata/5656b6906de340bd1b0000ac\n",
    "\n",
    "def longest(a1, a2):\n",
    "    a_list = []\n",
    "    for letter in a1:\n",
    "        if not(letter in a_list):\n",
    "            a_list.append(letter)\n",
    "\n",
    "    for letter in a2:\n",
    "        if not(letter in a_list):\n",
    "            a_list.append(letter)\n",
    "\n",
    "    only_once = ''.join(sorted(a_list))\n",
    "    return only_once\n",
    "\n",
    "\n",
    "# REFACTORED\n",
    "\n",
    "def longest(a1, a2):\n",
    "    x = [x for x in a1]\n",
    "    x.extend([x for x in a2])\n",
    "    return \"\".join(sorted(list(set(x))))"
   ]
  }
 ],
 "metadata": {
  "language_info": {
   "name": "python"
  },
  "orig_nbformat": 4
 },
 "nbformat": 4,
 "nbformat_minor": 2
}
