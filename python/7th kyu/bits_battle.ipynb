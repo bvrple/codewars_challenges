{
 "cells": [
  {
   "cell_type": "code",
   "execution_count": null,
   "metadata": {},
   "outputs": [],
   "source": [
    "# https://www.codewars.com/kata/58856a06760b85c4e6000055\n",
    "\n",
    "def bits_battle(nums):\n",
    "    even_bits = ''.join([str(bin(num))[2:] for num in nums if num % 2 == 0])\n",
    "    odd_bits = ''.join([str(bin(num))[2:] for num in nums if num % 2 != 0])\n",
    "    even_count = 0\n",
    "    odd_count = 0\n",
    "\n",
    "    for char in even_bits:\n",
    "        if char == '0':\n",
    "            even_count+=1\n",
    "\n",
    "    for char in odd_bits:\n",
    "        if char == '1':\n",
    "            odd_count+=1\n",
    "\n",
    "    if nums == [] or odd_count == even_count: \n",
    "        return 'tie' \n",
    "    elif odd_count > even_count:\n",
    "        return 'odds win' \n",
    "    else:\n",
    "        return 'evens win'"
   ]
  }
 ],
 "metadata": {
  "language_info": {
   "name": "python"
  },
  "orig_nbformat": 4
 },
 "nbformat": 4,
 "nbformat_minor": 2
}
