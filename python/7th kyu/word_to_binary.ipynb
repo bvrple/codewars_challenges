{
 "cells": [
  {
   "cell_type": "code",
   "execution_count": null,
   "metadata": {},
   "outputs": [],
   "source": [
    "# https://www.codewars.com/kata/59859f435f5d18ede7000050\n",
    "\n",
    "def word_to_bin(word):\n",
    "    return [bin(x)[2:].zfill(8) for x in list(map(ord,word))]"
   ]
  }
 ],
 "metadata": {
  "language_info": {
   "name": "python"
  },
  "orig_nbformat": 4
 },
 "nbformat": 4,
 "nbformat_minor": 2
}
