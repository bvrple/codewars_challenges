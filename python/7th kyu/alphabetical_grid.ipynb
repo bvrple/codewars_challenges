{
 "cells": [
  {
   "cell_type": "code",
   "execution_count": null,
   "metadata": {},
   "outputs": [],
   "source": [
    "# https://www.codewars.com/kata/60a94f1443f8730025d1744b\n",
    "\n",
    "import string\n",
    "\n",
    "def grid(n):\n",
    "    letters = [x for x in string.ascii_lowercase*1000]\n",
    "    \n",
    "    if n == 0:\n",
    "        return ''\n",
    "    elif n > 0:\n",
    "        grid = []\n",
    "        for x in range(n):\n",
    "            grid.append(' '.join(letters[0:n]))\n",
    "            letters.pop(0)\n",
    "        result = '\\n'.join(grid)\n",
    "        return result\n",
    "    else:\n",
    "        return None"
   ]
  }
 ],
 "metadata": {
  "language_info": {
   "name": "python"
  },
  "orig_nbformat": 4
 },
 "nbformat": 4,
 "nbformat_minor": 2
}
