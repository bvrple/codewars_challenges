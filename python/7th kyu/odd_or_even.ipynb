{
 "cells": [
  {
   "cell_type": "code",
   "execution_count": null,
   "metadata": {},
   "outputs": [],
   "source": [
    "# https://www.codewars.com/kata/5949481f86420f59480000e7\n",
    "\n",
    "def odd_or_even(arr):\n",
    "    return 'even' if sum(arr)%2==0 else 'odd'"
   ]
  }
 ],
 "metadata": {
  "language_info": {
   "name": "python"
  },
  "orig_nbformat": 4
 },
 "nbformat": 4,
 "nbformat_minor": 2
}
