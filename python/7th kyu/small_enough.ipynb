{
 "cells": [
  {
   "cell_type": "code",
   "execution_count": null,
   "metadata": {},
   "outputs": [],
   "source": [
    " # https://www.codewars.com/kata/57cc981a58da9e302a000214\n",
    " \n",
    "def small_enough(array, limit):\n",
    "    for i in array:\n",
    "        if i > limit:\n",
    "            return False\n",
    "    return True"
   ]
  }
 ],
 "metadata": {
  "language_info": {
   "name": "python"
  },
  "orig_nbformat": 4
 },
 "nbformat": 4,
 "nbformat_minor": 2
}
