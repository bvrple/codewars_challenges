{
 "cells": [
  {
   "cell_type": "code",
   "execution_count": null,
   "metadata": {},
   "outputs": [],
   "source": [
    "# https://www.codewars.com/kata/554b4ac871d6813a03000035\n",
    "\n",
    "def high_and_low(numbers):\n",
    "    #create list\n",
    "    num_list = numbers.split()\n",
    "\n",
    "    #convert string items of list to ints\n",
    "    num_list = [int(item) for item in num_list]\n",
    "\n",
    "    #sort list\n",
    "    num_list = sorted(num_list)\n",
    "\n",
    "    #convert max and min values to string and return\n",
    "    result = str(max(num_list)) + ' ' + str(min(num_list))\n",
    "    \n",
    "    return result"
   ]
  }
 ],
 "metadata": {
  "language_info": {
   "name": "python"
  },
  "orig_nbformat": 4
 },
 "nbformat": 4,
 "nbformat_minor": 2
}
