{
 "cells": [
  {
   "cell_type": "code",
   "execution_count": null,
   "metadata": {},
   "outputs": [],
   "source": [
    "# https://www.codewars.com/kata/59a96d71dbe3b06c0200009c\n",
    "\n",
    "def generate_shape(n):\n",
    "    string = '+'*n + '\\n'\n",
    "    i = 0\n",
    "    while i < n-1:\n",
    "        string += '+'*n + '\\n'\n",
    "        i+=1\n",
    "    return string[:-1]"
   ]
  }
 ],
 "metadata": {
  "language_info": {
   "name": "python"
  },
  "orig_nbformat": 4
 },
 "nbformat": 4,
 "nbformat_minor": 2
}
