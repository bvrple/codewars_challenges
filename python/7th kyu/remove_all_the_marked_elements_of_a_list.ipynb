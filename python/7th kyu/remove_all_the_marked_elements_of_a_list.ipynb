{
 "cells": [
  {
   "cell_type": "code",
   "execution_count": null,
   "metadata": {},
   "outputs": [],
   "source": [
    "# https://www.codewars.com/kata/563089b9b7be03472d00002b\n",
    "\n",
    "class List:\n",
    "    def remove_(self, integer_list, values_list):\n",
    "        self.integer_list = integer_list\n",
    "        self.values_list = values_list\n",
    "        new_list = []\n",
    "        \n",
    "        for item in self.integer_list:\n",
    "            if item not in self.values_list:\n",
    "                new_list.append(item)\n",
    "        return new_list"
   ]
  }
 ],
 "metadata": {
  "language_info": {
   "name": "python"
  },
  "orig_nbformat": 4
 },
 "nbformat": 4,
 "nbformat_minor": 2
}
