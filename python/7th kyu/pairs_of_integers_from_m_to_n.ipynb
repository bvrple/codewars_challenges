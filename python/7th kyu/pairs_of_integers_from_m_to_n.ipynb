{
 "cells": [
  {
   "cell_type": "code",
   "execution_count": null,
   "metadata": {},
   "outputs": [],
   "source": [
    "# https://www.codewars.com/kata/588e2a1ad1140d31cb00008c\n",
    "\n",
    "def generate_pairs(m, n):\n",
    "    lst = []\n",
    "    while m <= n:\n",
    "        x = m\n",
    "        while x <= n:\n",
    "            lst.append((m, x))\n",
    "            x+=1\n",
    "        m+=1\n",
    "    return lst"
   ]
  }
 ],
 "metadata": {
  "language_info": {
   "name": "python"
  },
  "orig_nbformat": 4
 },
 "nbformat": 4,
 "nbformat_minor": 2
}
