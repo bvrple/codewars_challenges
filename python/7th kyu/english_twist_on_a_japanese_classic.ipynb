{
 "cells": [
  {
   "cell_type": "code",
   "execution_count": null,
   "metadata": {},
   "outputs": [],
   "source": [
    "# https://www.codewars.com/kata/5b04be641839f1a0ab000151\n",
    "\n",
    "def game(words):\n",
    "    if words == [] or words[0] == '':\n",
    "        return []\n",
    "    if len(words) == 1:\n",
    "        return words\n",
    "    \n",
    "    arr = []\n",
    "    for i in range(len(words)-1):    \n",
    "        arr.append(words[i])\n",
    "        if words[i] == '' or words[i+1] == '':\n",
    "            break\n",
    "        elif words[i][-1] != words[i+1][0]:\n",
    "            break\n",
    "        elif len(arr) == len(words)-1:\n",
    "            arr.append(words[-1])\n",
    "    return arr"
   ]
  }
 ],
 "metadata": {
  "language_info": {
   "name": "python"
  },
  "orig_nbformat": 4
 },
 "nbformat": 4,
 "nbformat_minor": 2
}
