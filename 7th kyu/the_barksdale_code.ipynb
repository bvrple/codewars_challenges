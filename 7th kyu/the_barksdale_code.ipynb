{
 "cells": [
  {
   "cell_type": "code",
   "execution_count": null,
   "metadata": {},
   "outputs": [],
   "source": [
    "# https://www.codewars.com/kata/573d498eb90ccf20a000002a\n",
    "\n",
    "def decode(string):\n",
    "    #your code here\n",
    "    # 1 = 9, 2 = 8, 3 = 7, 4 = 6, 5 = 0\n",
    "    values = {'0':'5','1':'9','2':'8','3':'7','4':'6','5':'0','6':'4','7':'3','8':'2','9':'1'}\n",
    "    result = []\n",
    "    for x in string:\n",
    "        result.append(values[x])\n",
    "        \n",
    "    return ''.join(result)"
   ]
  }
 ],
 "metadata": {
  "language_info": {
   "name": "python"
  },
  "orig_nbformat": 4
 },
 "nbformat": 4,
 "nbformat_minor": 2
}
