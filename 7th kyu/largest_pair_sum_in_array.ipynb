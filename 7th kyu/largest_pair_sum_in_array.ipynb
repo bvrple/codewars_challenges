{
 "cells": [
  {
   "cell_type": "code",
   "execution_count": null,
   "metadata": {},
   "outputs": [],
   "source": [
    "# https://www.codewars.com/kata/556196a6091a7e7f58000018\n",
    "\n",
    "def largest_pair_sum(numbers): \n",
    "    sl = sorted(numbers)\n",
    "    res = []\n",
    "    res.append(sl.pop())\n",
    "    res.append(sl.pop())\n",
    "    \n",
    "    return (sum(res))"
   ]
  }
 ],
 "metadata": {
  "language_info": {
   "name": "python"
  },
  "orig_nbformat": 4
 },
 "nbformat": 4,
 "nbformat_minor": 2
}
