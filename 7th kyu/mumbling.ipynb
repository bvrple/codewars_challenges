{
 "cells": [
  {
   "cell_type": "code",
   "execution_count": null,
   "metadata": {},
   "outputs": [],
   "source": [
    "# https://www.codewars.com/kata/5667e8f4e3f572a8f2000039\n",
    "\n",
    "def accum(s):\n",
    "    lst = []\n",
    "\n",
    "    for i in range(0, len(s)):\n",
    "        if i > 0:\n",
    "            lst.append(s[i]*(i+1))\n",
    "        else:\n",
    "            lst.append(s[i])\n",
    "    return '-'.join(lst).title()"
   ]
  }
 ],
 "metadata": {
  "language_info": {
   "name": "python"
  },
  "orig_nbformat": 4
 },
 "nbformat": 4,
 "nbformat_minor": 2
}
