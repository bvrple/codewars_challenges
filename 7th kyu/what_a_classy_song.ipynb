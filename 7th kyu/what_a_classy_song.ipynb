{
 "cells": [
  {
   "cell_type": "code",
   "execution_count": null,
   "metadata": {},
   "outputs": [],
   "source": [
    "# https://www.codewars.com/kata/6089c7992df556001253ba7d\n",
    "\n",
    "class Song:\n",
    "\n",
    "    def __init__(self, title, artist):\n",
    "        self.title = title\n",
    "        self.artist = artist\n",
    "        self.main = set()\n",
    "\n",
    "    def how_many(self, listeners):\n",
    "        listeners = [x.lower() for x in listeners]\n",
    "        current = set()\n",
    "        \n",
    "        for name in listeners:\n",
    "            if name not in self.main:\n",
    "                current.add(name)\n",
    "        \n",
    "        for name in listeners:\n",
    "            self.main.add(name)\n",
    "        \n",
    "        return len(current)"
   ]
  }
 ],
 "metadata": {
  "language_info": {
   "name": "python"
  },
  "orig_nbformat": 4
 },
 "nbformat": 4,
 "nbformat_minor": 2
}
