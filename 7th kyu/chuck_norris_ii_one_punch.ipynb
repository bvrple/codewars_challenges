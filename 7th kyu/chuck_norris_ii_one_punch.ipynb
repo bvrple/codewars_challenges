{
 "cells": [
  {
   "cell_type": "code",
   "execution_count": null,
   "metadata": {},
   "outputs": [],
   "source": [
    "# https://www.codewars.com/kata/57057a035eef1f7e790009ef\n",
    "\n",
    "def one_punch(item):\n",
    "    return 'Broken!' if item == '' or type(item) == list or type(item) == int else ' '.join(sorted(item.split(' '))).replace('e', '').replace('a', '').replace('E', '').replace('A', '')"
   ]
  }
 ],
 "metadata": {
  "language_info": {
   "name": "python"
  },
  "orig_nbformat": 4
 },
 "nbformat": 4,
 "nbformat_minor": 2
}
