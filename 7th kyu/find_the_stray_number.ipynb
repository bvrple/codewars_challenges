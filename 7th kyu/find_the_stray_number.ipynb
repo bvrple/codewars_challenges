{
 "cells": [
  {
   "cell_type": "code",
   "execution_count": null,
   "metadata": {},
   "outputs": [],
   "source": [
    "# https://www.codewars.com/kata/57f609022f4d534f05000024\n",
    "\n",
    "def stray(arr):\n",
    "    check = list(set(arr))\n",
    "    print(check)\n",
    "    x = arr.count(check[0])\n",
    "    if x == 1:\n",
    "        return check[0]\n",
    "    else:\n",
    "        return check[1]"
   ]
  }
 ],
 "metadata": {
  "language_info": {
   "name": "python"
  },
  "orig_nbformat": 4
 },
 "nbformat": 4,
 "nbformat_minor": 2
}
