{
 "cells": [
  {
   "cell_type": "code",
   "execution_count": null,
   "metadata": {},
   "outputs": [],
   "source": [
    "# https://www.codewars.com/kata/59e49b2afc3c494d5d00002a\n",
    "\n",
    "def sort_vowels(string):\n",
    "    vowels = ['a', 'e', 'i', 'o', 'u']\n",
    "    x = []\n",
    "    \n",
    "    if type(string) is str:\n",
    "        for letter in string:\n",
    "            if letter.lower() not in vowels:\n",
    "                x.append(letter + '|\\n')\n",
    "            elif letter.lower() in vowels:\n",
    "                x.append('|' + letter + '\\n')\n",
    "        \n",
    "        x = ''.join(x).rstrip('\\n')\n",
    "        return x \n",
    "    return ''"
   ]
  }
 ],
 "metadata": {
  "language_info": {
   "name": "python"
  },
  "orig_nbformat": 4
 },
 "nbformat": 4,
 "nbformat_minor": 2
}
