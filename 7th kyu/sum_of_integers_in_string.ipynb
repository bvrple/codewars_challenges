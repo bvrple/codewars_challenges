{
 "cells": [
  {
   "cell_type": "code",
   "execution_count": null,
   "metadata": {},
   "outputs": [],
   "source": [
    "# https://www.codewars.com/kata/598f76a44f613e0e0b000026\n",
    "\n",
    "import re\n",
    "\n",
    "def sum_of_integers_in_string(s):\n",
    "    nums = re.findall('(\\d+)', s)\n",
    "    return sum([int(x) for x in nums])"
   ]
  }
 ],
 "metadata": {
  "language_info": {
   "name": "python"
  },
  "orig_nbformat": 4
 },
 "nbformat": 4,
 "nbformat_minor": 2
}
