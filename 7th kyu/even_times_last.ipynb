{
 "cells": [
  {
   "cell_type": "code",
   "execution_count": null,
   "metadata": {},
   "outputs": [],
   "source": [
    "# https://www.codewars.com/kata/5a1a9e5032b8b98477000004\n",
    "\n",
    "def even_last(numbers): \n",
    "    \n",
    "    if len(numbers) < 1:\n",
    "        return 0\n",
    "    \n",
    "    elif len(numbers) == 1:\n",
    "        return numbers[0]*numbers[0]\n",
    "    \n",
    "    else:\n",
    "        result = 0\n",
    "        i = 0\n",
    "        \n",
    "        while i < len(numbers):\n",
    "            result += numbers[i]\n",
    "            print(numbers[i])\n",
    "            i+=2\n",
    "        result = result*numbers[-1]\n",
    "        return result"
   ]
  }
 ],
 "metadata": {
  "language_info": {
   "name": "python"
  },
  "orig_nbformat": 4
 },
 "nbformat": 4,
 "nbformat_minor": 2
}
