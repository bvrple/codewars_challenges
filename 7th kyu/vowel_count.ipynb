{
 "cells": [
  {
   "cell_type": "code",
   "execution_count": null,
   "metadata": {},
   "outputs": [],
   "source": [
    "# https://www.codewars.com/kata/54ff3102c1bad923760001f3\n",
    "\n",
    "def get_count(sentence):\n",
    "    vowels = 'aeiou'\n",
    "    count = 0\n",
    "    for letter in sentence:\n",
    "        if letter in vowels:\n",
    "            count+=1\n",
    "    return count"
   ]
  }
 ],
 "metadata": {
  "language_info": {
   "name": "python"
  },
  "orig_nbformat": 4
 },
 "nbformat": 4,
 "nbformat_minor": 2
}
