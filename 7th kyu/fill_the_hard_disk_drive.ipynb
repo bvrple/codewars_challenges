{
 "cells": [
  {
   "cell_type": "code",
   "execution_count": null,
   "metadata": {},
   "outputs": [],
   "source": [
    "# https://www.codewars.com/kata/5d49c93d089c6e000ff8428c\n",
    "\n",
    "def save(sizes, hd): \n",
    "    x = 0\n",
    "    y = 0\n",
    "    for i in sizes:\n",
    "        if x+i <= hd:\n",
    "            x+=i\n",
    "            y+=1\n",
    "            print(x)\n",
    "        else:\n",
    "            break    \n",
    "    return y"
   ]
  }
 ],
 "metadata": {
  "language_info": {
   "name": "python"
  },
  "orig_nbformat": 4
 },
 "nbformat": 4,
 "nbformat_minor": 2
}
