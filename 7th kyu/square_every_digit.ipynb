{
 "cells": [
  {
   "cell_type": "code",
   "execution_count": null,
   "metadata": {},
   "outputs": [],
   "source": [
    "# https://www.codewars.com/kata/546e2562b03326a88e000020\n",
    "\n",
    "def square_digits(num):\n",
    "    return int(''.join([str(pow(int(x),2)) for x in str(num)]))"
   ]
  }
 ],
 "metadata": {
  "language_info": {
   "name": "python"
  },
  "orig_nbformat": 4
 },
 "nbformat": 4,
 "nbformat_minor": 2
}
