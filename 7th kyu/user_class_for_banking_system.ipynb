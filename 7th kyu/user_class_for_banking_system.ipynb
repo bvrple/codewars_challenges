{
 "cells": [
  {
   "cell_type": "code",
   "execution_count": null,
   "metadata": {},
   "outputs": [],
   "source": [
    "# https://www.codewars.com/kata/5a03af9606d5b65ff7000009\n",
    "\n",
    "class User(object):\n",
    "    def __init__(self, name, balance, checking_account):\n",
    "        self.name = name\n",
    "        self.balance = balance\n",
    "        self.checking_account = checking_account\n",
    "\n",
    "\n",
    "    def withdraw(self, amount):\n",
    "        self.minus_balance = self.balance - amount\n",
    "        if self.minus_balance <=0 or self.balance == 0:\n",
    "            raise ValueError('Insufficient funds!')\n",
    "        else:\n",
    "            self.minus_balance\n",
    "            self.balance = self.minus_balance\n",
    "            return f'{self.name} has {self.balance}.'\n",
    "\n",
    "    def add_cash(self, amount):\n",
    "        self.add_balance = self.balance + amount\n",
    "        self.add_balance\n",
    "        self.balance = self.add_balance\n",
    "        return f'{self.name} has {self.balance}.'\n",
    "    \n",
    "    def check(self, other, amount):\n",
    "        check_balance = other.balance - amount\n",
    "        \n",
    "        if (check_balance < 0) or other.checking_account != True:\n",
    "            raise ValueError(\"Insufficient funds!\")\n",
    "        else:\n",
    "            self.balance = self.balance + amount\n",
    "            other.balance = other.balance - amount\n",
    "            return f'{self.name} has {self.balance} and {other.name} has {other.balance}.'"
   ]
  }
 ],
 "metadata": {
  "language_info": {
   "name": "python"
  },
  "orig_nbformat": 4
 },
 "nbformat": 4,
 "nbformat_minor": 2
}
