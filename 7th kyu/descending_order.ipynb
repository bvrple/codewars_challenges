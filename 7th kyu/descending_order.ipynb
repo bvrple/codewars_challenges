{
 "cells": [
  {
   "cell_type": "code",
   "execution_count": null,
   "metadata": {},
   "outputs": [],
   "source": [
    "# https://www.codewars.com/kata/5467e4d82edf8bbf40000155\n",
    "\n",
    "def descending_order(num):\n",
    "    return int(''.join(sorted(str(num), reverse=True))"
   ]
  }
 ],
 "metadata": {
  "language_info": {
   "name": "python"
  },
  "orig_nbformat": 4
 },
 "nbformat": 4,
 "nbformat_minor": 2
}
