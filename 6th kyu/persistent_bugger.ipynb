{
 "cells": [
  {
   "cell_type": "code",
   "execution_count": null,
   "metadata": {},
   "outputs": [],
   "source": [
    "# https://www.codewars.com/kata/55bf01e5a717a0d57e0000ec\n",
    "\n",
    "def persistence(n):\n",
    "    value_list = list(str(n))\n",
    "    values = []\n",
    "    product = 1\n",
    "    count = 0\n",
    "    if len(values) == 1:\n",
    "        return 0\n",
    "    else:\n",
    "        for num in value_list:\n",
    "                values.append(int(num))\n",
    "        while len(values) != 1:\n",
    "            for i in values:\n",
    "                product = product*i\n",
    "            values = list(str(product))\n",
    "            values = [int(x) for x in values]\n",
    "            product = 1\n",
    "            count+=1\n",
    "        return count"
   ]
  }
 ],
 "metadata": {
  "language_info": {
   "name": "python"
  },
  "orig_nbformat": 4
 },
 "nbformat": 4,
 "nbformat_minor": 2
}
