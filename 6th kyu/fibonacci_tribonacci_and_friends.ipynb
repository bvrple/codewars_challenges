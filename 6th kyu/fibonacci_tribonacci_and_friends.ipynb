{
 "cells": [
  {
   "cell_type": "code",
   "execution_count": null,
   "metadata": {},
   "outputs": [],
   "source": [
    "# https://www.codewars.com/kata/556e0fccc392c527f20000c5\n",
    "\n",
    "def Xbonacci(sig,n):\n",
    "    if n < len(sig):\n",
    "        return sig[:n]\n",
    "    else:\n",
    "        for i in range(0, n-len(sig)):\n",
    "            sig.append(sum(sig[i:]))\n",
    "        return sig"
   ]
  }
 ],
 "metadata": {
  "language_info": {
   "name": "python"
  },
  "orig_nbformat": 4
 },
 "nbformat": 4,
 "nbformat_minor": 2
}
