{
 "cells": [
  {
   "cell_type": "code",
   "execution_count": null,
   "metadata": {},
   "outputs": [],
   "source": [
    "# https://www.codewars.com/kata/54bb6f887e5a80180900046b\n",
    "\n",
    "def longest_palindrome (new):\n",
    "    palindromes = []\n",
    "    \n",
    "    if len(new) == 0:\n",
    "        return 0\n",
    "\n",
    "    for i in range(0, len(new)):\n",
    "\n",
    "        for j in range(i, len(new)):\n",
    "            index = new[i:j+1:]\n",
    "            palindromes.append(index)\n",
    "\n",
    "    unique = sorted(set(palindromes))\n",
    "\n",
    "    pally = []\n",
    "    result = []\n",
    "\n",
    "    for string in unique:\n",
    "        if string == string[::-1]:\n",
    "            pally.append(string)\n",
    "\n",
    "\n",
    "    for item in pally:\n",
    "        result.append(len(item))\n",
    "\n",
    "\n",
    "    return max(result)"
   ]
  }
 ],
 "metadata": {
  "language_info": {
   "name": "python"
  },
  "orig_nbformat": 4
 },
 "nbformat": 4,
 "nbformat_minor": 2
}
