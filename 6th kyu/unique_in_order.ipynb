{
 "cells": [
  {
   "cell_type": "code",
   "execution_count": null,
   "metadata": {},
   "outputs": [],
   "source": [
    "# https://www.codewars.com/kata/54e6533c92449cc251001667\n",
    "\n",
    "def unique_in_order(arr):\n",
    "    \n",
    "    arr = [x for x in arr]\n",
    "    result = []\n",
    "    \n",
    "    if len(arr) < 2:\n",
    "        return arr\n",
    "    else:   \n",
    "        while len(arr) > 1:\n",
    "            if len(arr) > 2 and arr[0] == arr[1]:\n",
    "                arr.pop(0)\n",
    "            elif len(arr) > 2 and arr[0] != arr[1]:\n",
    "                result.append(arr[0])\n",
    "                arr.pop(0)\n",
    "            elif len(arr) == 2:\n",
    "                result.append(arr[0])\n",
    "                result.append(arr[1])\n",
    "                arr.pop(0)\n",
    "\n",
    "        if result[-1] == result[-2]:\n",
    "            return result[:-1]\n",
    "        else:\n",
    "            return result"
   ]
  }
 ],
 "metadata": {
  "language_info": {
   "name": "python"
  },
  "orig_nbformat": 4
 },
 "nbformat": 4,
 "nbformat_minor": 2
}
