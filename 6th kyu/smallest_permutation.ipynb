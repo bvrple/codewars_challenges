{
 "cells": [
  {
   "cell_type": "code",
   "execution_count": null,
   "metadata": {},
   "outputs": [],
   "source": [
    "# https://www.codewars.com/kata/5fefee21b64cc2000dbfa875\n",
    "\n",
    "def min_permutation(n):\n",
    "    #create sorted string from input\n",
    "    string = ''.join(sorted(str(n)))\n",
    "    \n",
    "    #account for multiple zeros i.e 2000, 30094\n",
    "    i = 0\n",
    "    for char in string:\n",
    "        if char == '0':\n",
    "            i+=1\n",
    "    zeros = '0'*i\n",
    "    \n",
    "    #return int form of new string\n",
    "    if '-' in string and '0' in string:\n",
    "        #convert back to integer to eliminate zeros then add at index one\n",
    "        string = str(int(string))\n",
    "        string = string[0:2] + zeros + string[2:]\n",
    "        return int(string)\n",
    "    elif '0' in string:\n",
    "        #convert back to integer to eliminate zeros then add at index one\n",
    "        string = str(int(string))\n",
    "        string = string[0] + zeros + string[1:]\n",
    "        return int(string)\n",
    "    else:\n",
    "        return int(string)"
   ]
  }
 ],
 "metadata": {
  "language_info": {
   "name": "python"
  },
  "orig_nbformat": 4
 },
 "nbformat": 4,
 "nbformat_minor": 2
}
