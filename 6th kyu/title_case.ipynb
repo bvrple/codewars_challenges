{
 "cells": [
  {
   "cell_type": "code",
   "execution_count": null,
   "metadata": {},
   "outputs": [],
   "source": [
    "# https://www.codewars.com/kata/5202ef17a402dd033c000009\n",
    "\n",
    "def title_case(s, arr=''):\n",
    "    if s == '':\n",
    "        return ''\n",
    "    #Part 1 capitalize each word\n",
    "    result = []\n",
    "    string_list = s.title().split()\n",
    "    \n",
    "    #Turned arr into a list and looped through to check for equal words.\n",
    "    word_list = arr.title().split()\n",
    "    result.append(string_list[0])\n",
    "    for word in string_list[1:]:\n",
    "        if check(word, word_list) == True:\n",
    "            result.append(word.lower())\n",
    "        else:\n",
    "            result.append(word)\n",
    "    \n",
    "    return ' '.join(result)\n",
    "            \n",
    "            \n",
    "            \n",
    "            \n",
    "def check(s,arr):\n",
    "    for word in arr:\n",
    "        if s == word:\n",
    "            return True\n",
    "    return False"
   ]
  }
 ],
 "metadata": {
  "language_info": {
   "name": "python"
  },
  "orig_nbformat": 4
 },
 "nbformat": 4,
 "nbformat_minor": 2
}
