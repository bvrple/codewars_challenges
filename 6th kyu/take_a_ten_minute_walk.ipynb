{
 "cells": [
  {
   "cell_type": "code",
   "execution_count": null,
   "metadata": {},
   "outputs": [],
   "source": [
    "# https://www.codewars.com/kata/54da539698b8a2ad76000228\n",
    "\n",
    "def is_valid_walk(walk):\n",
    "    count = 0\n",
    "    a = 0\n",
    "    b = 0\n",
    "    \n",
    "    for x in walk:\n",
    "        count+=1\n",
    "        if x == 'n':\n",
    "            a+=1\n",
    "        elif x == 's':\n",
    "            a-=1\n",
    "        elif x == 'e':\n",
    "            b+=1\n",
    "        elif x == 'w':\n",
    "            b-=1\n",
    "    if count == 10 and a == 0 and b == 0:\n",
    "        return True\n",
    "    else:\n",
    "        return False"
   ]
  }
 ],
 "metadata": {
  "language_info": {
   "name": "python"
  },
  "orig_nbformat": 4
 },
 "nbformat": 4,
 "nbformat_minor": 2
}
