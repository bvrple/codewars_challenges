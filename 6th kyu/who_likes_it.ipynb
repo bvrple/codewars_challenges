{
 "cells": [
  {
   "cell_type": "code",
   "execution_count": null,
   "metadata": {},
   "outputs": [],
   "source": [
    "# https://www.codewars.com/kata/5266876b8f4bf2da9b000362\n",
    "\n",
    "def likes(names):\n",
    "    count = 0\n",
    "    for item in names:\n",
    "        count+=1 \n",
    "    if len(names) < 1:\n",
    "        return 'no one likes this'\n",
    "    elif len(names) == 1:\n",
    "        return names[0] + ' likes this'\n",
    "    elif len(names) == 2:\n",
    "        return names[0] + ' and ' + names[1] + ' like this'\n",
    "    elif len(names) == 3:\n",
    "        return ', '.join(names[0:2]) + ' and ' + str(names[2]) + ' like this'\n",
    "    else:\n",
    "        len(names) >= 4\n",
    "        return ', '.join(names[0:2]) + ' and ' + str(count-2) + ' others' + ' like this'"
   ]
  }
 ],
 "metadata": {
  "language_info": {
   "name": "python"
  },
  "orig_nbformat": 4
 },
 "nbformat": 4,
 "nbformat_minor": 2
}
