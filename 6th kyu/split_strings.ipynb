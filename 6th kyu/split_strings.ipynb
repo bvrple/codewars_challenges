{
 "cells": [
  {
   "cell_type": "code",
   "execution_count": null,
   "metadata": {},
   "outputs": [],
   "source": [
    "# https://www.codewars.com/kata/515de9ae9dcfc28eb6000001\n",
    "\n",
    "def solution(s):\n",
    "    splits = []\n",
    "    n = 2\n",
    "    if len(s)%2!=0:\n",
    "            s = s + '_'\n",
    "    for index in range(0, len(s), n):\n",
    "        splits.append(s[index : index + n])\n",
    "    return(splits)"
   ]
  }
 ],
 "metadata": {
  "language_info": {
   "name": "python"
  },
  "orig_nbformat": 4
 },
 "nbformat": 4,
 "nbformat_minor": 2
}
