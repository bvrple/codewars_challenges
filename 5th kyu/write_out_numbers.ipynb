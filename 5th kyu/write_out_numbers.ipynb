{
 "cells": [
  {
   "cell_type": "code",
   "execution_count": null,
   "metadata": {},
   "outputs": [],
   "source": [
    "# https://www.codewars.com/kata/52724507b149fa120600031d\n",
    "\n",
    "vals = ['zero','one','two','three','four','five','six','seven','eight','nine','ten','eleven', 'twelve', 'thirteen', \n",
    "'fourteen', 'fifteen', 'sixteen','seventeen','eighteen','nineteen', 'twenty', 'thirty', 'forty', 'fifty', \n",
    "'sixty', 'seventy', 'eighty', 'ninety']\n",
    "def number2words(n):\n",
    "    if n < 20:\n",
    "        return vals[n]\n",
    "    elif n < 100:\n",
    "        return vals[18 + n//10] + ('' if n % 10 == 0 else '-' + vals[n % 10])\n",
    "    elif n < 1000:\n",
    "        return number2words(n//100) + ' hundred' + (' ' + number2words(n % 100) if n % 100 > 0 else '')\n",
    "    elif n < 1000000:\n",
    "        return number2words(n//1000) + ' thousand' + (' ' + number2words(n % 1000) if n % 1000 > 0 else '')"
   ]
  }
 ],
 "metadata": {
  "language_info": {
   "name": "python"
  },
  "orig_nbformat": 4
 },
 "nbformat": 4,
 "nbformat_minor": 2
}
