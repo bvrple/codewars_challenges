{
 "cells": [
  {
   "cell_type": "code",
   "execution_count": null,
   "metadata": {},
   "outputs": [],
   "source": [
    "# https://www.codewars.com/kata/530e15517bc88ac656000716\n",
    "\n",
    "import string\n",
    "\n",
    "def rot13(message):\n",
    "    new_string = \"\"\n",
    "    alphabet = string.ascii_lowercase\n",
    "    \n",
    "    for letter in message:\n",
    "        if letter.lower() in alphabet:\n",
    "            index = alphabet.find(letter.lower())\n",
    "            if len(alphabet[index+1:]) < 13:\n",
    "                if letter.isupper():\n",
    "                    new_letter = alphabet[index - 13].upper()\n",
    "                    new_string += new_letter  \n",
    "                else:\n",
    "                    new_letter = alphabet[index - 13]\n",
    "                    new_string += new_letter   \n",
    "            else:\n",
    "                if letter.isupper():\n",
    "                    new_letter = alphabet[index + 13].upper()\n",
    "                    new_string += new_letter  \n",
    "                else:\n",
    "                    new_letter = alphabet[index + 13]\n",
    "                    new_string += new_letter   \n",
    "        else:\n",
    "            new_string += letter\n",
    "    return new_string"
   ]
  }
 ],
 "metadata": {
  "language_info": {
   "name": "python"
  },
  "orig_nbformat": 4
 },
 "nbformat": 4,
 "nbformat_minor": 2
}
