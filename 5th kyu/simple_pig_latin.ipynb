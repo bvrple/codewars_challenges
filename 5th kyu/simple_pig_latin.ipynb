{
 "cells": [
  {
   "cell_type": "code",
   "execution_count": null,
   "metadata": {},
   "outputs": [],
   "source": [
    "# https://www.codewars.com/kata/520b9d2ad5c005041100000f\n",
    "\n",
    "def pig_it(text):\n",
    "    words = text.split(' ')\n",
    "    pig = []\n",
    "\n",
    "    for item in words:\n",
    "        if item.isalpha():\n",
    "            pig.append(item[1:]+item[0]+'ay')\n",
    "        else:\n",
    "            pig.append(item)\n",
    "    return ' '.join(pig)"
   ]
  }
 ],
 "metadata": {
  "language_info": {
   "name": "python"
  },
  "orig_nbformat": 4
 },
 "nbformat": 4,
 "nbformat_minor": 2
}
