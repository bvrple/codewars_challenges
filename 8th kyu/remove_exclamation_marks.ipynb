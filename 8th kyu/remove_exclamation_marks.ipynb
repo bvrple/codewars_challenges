{
 "cells": [
  {
   "cell_type": "code",
   "execution_count": null,
   "metadata": {},
   "outputs": [],
   "source": [
    "# https://www.codewars.com/kata/57a0885cbb9944e24c00008e\n",
    "\n",
    "def remove_exclamation_marks(s):\n",
    "    return s.replace('!', '')"
   ]
  }
 ],
 "metadata": {
  "language_info": {
   "name": "python"
  },
  "orig_nbformat": 4
 },
 "nbformat": 4,
 "nbformat_minor": 2
}
