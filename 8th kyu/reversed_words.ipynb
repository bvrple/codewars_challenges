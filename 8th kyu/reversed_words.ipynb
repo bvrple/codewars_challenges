{
 "cells": [
  {
   "cell_type": "code",
   "execution_count": null,
   "metadata": {},
   "outputs": [],
   "source": [
    "# https://www.codewars.com/kata/51c8991dee245d7ddf00000e\n",
    "\n",
    "def reverse_words(string):\n",
    "    my_list = [x for x in reversed(string.split(' '))]\n",
    "    return ' '.join(my_list)"
   ]
  }
 ],
 "metadata": {
  "language_info": {
   "name": "python"
  },
  "orig_nbformat": 4
 },
 "nbformat": 4,
 "nbformat_minor": 2
}
