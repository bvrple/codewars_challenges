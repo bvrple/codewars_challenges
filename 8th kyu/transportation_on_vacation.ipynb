{
 "cells": [
  {
   "cell_type": "code",
   "execution_count": null,
   "metadata": {},
   "outputs": [],
   "source": [
    "# https://www.codewars.com/kata/568d0dd208ee69389d000016\n",
    "\n",
    "def rental_car_cost(d):\n",
    "    if d >= 7:\n",
    "        return (40*d) - 50\n",
    "    elif d >=3:\n",
    "        return (40*d) - 20\n",
    "    else:\n",
    "        return 40*d"
   ]
  }
 ],
 "metadata": {
  "language_info": {
   "name": "python"
  },
  "orig_nbformat": 4
 },
 "nbformat": 4,
 "nbformat_minor": 2
}
