{
 "cells": [
  {
   "cell_type": "code",
   "execution_count": null,
   "metadata": {},
   "outputs": [],
   "source": [
    "# https://www.codewars.com/kata/5966e33c4e686b508700002d\n",
    "\n",
    "def sum_str(a, b):\n",
    "    if a == '' and b == '':\n",
    "        result = 0\n",
    "    elif b == '':\n",
    "        result = int(a)\n",
    "    elif a == '':\n",
    "        result = int(b)\n",
    "    else:\n",
    "        result = int(a) + int(b)\n",
    "    return str(result)"
   ]
  }
 ],
 "metadata": {
  "language_info": {
   "name": "python"
  },
  "orig_nbformat": 4
 },
 "nbformat": 4,
 "nbformat_minor": 2
}
