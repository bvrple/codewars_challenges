{
 "cells": [
  {
   "cell_type": "code",
   "execution_count": null,
   "metadata": {},
   "outputs": [],
   "source": [
    "# https://www.codewars.com/kata/57ec8bd8f670e9a47a000f89\n",
    "\n",
    "def mouth_size(animal): \n",
    "    if animal.lower() == 'alligator':\n",
    "        return 'small'\n",
    "    return 'wide'"
   ]
  }
 ],
 "metadata": {
  "language_info": {
   "name": "python"
  },
  "orig_nbformat": 4
 },
 "nbformat": 4,
 "nbformat_minor": 2
}
