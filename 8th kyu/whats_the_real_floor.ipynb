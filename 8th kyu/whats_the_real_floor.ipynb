{
 "cells": [
  {
   "cell_type": "code",
   "execution_count": null,
   "metadata": {},
   "outputs": [],
   "source": [
    "# https://www.codewars.com/kata/574b3b1599d8f897470018f6\n",
    "\n",
    "def get_real_floor(n):\n",
    "    if n < 1:\n",
    "        return n\n",
    "    elif n > 0 and n < 14:\n",
    "        return n-1\n",
    "    else:\n",
    "        return n-2"
   ]
  }
 ],
 "metadata": {
  "language_info": {
   "name": "python"
  },
  "orig_nbformat": 4
 },
 "nbformat": 4,
 "nbformat_minor": 2
}
